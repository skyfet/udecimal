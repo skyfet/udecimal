{
 "cells": [
  {
   "cell_type": "code",
   "execution_count": 7,
   "metadata": {},
   "outputs": [
    {
     "name": "stdout",
     "output_type": "stream",
     "text": [
      "2 ± 0.00\n",
      "50.00 ± 1.0000\n",
      "2.302585092994045684017991454684364207601101488628772976033327900967572609677352480235997205089598298341967784 ± 0.01\n",
      "1.0 ± 0.020000000000000000000000000000000000000000000000000000000000000000000000000000000000000000000000000000000000000\n"
     ]
    }
   ],
   "source": [
    "# Пример использования UDecimal с полной корреляцией при делении\n",
    "\n",
    "from udecimal import UDecimal\n",
    "from mpmath import mp\n",
    "\n",
    "# Создание переменных\n",
    "a = UDecimal('10.0', '0.1')\n",
    "b = UDecimal('5.0', '0.05')\n",
    "\n",
    "# Установка полной корреляции\n",
    "a.set_covariance(b, a.uncertainty * b.uncertainty)  # Cov(a, b) = δ_a * δ_b = 0.1 * 0.05 = 0.005\n",
    "\n",
    "# Выполнение операций после установки ковариации\n",
    "c = a / b\n",
    "print(c)  # Ожидаемый вывод: 2.0 ± 0.0\n",
    "\n",
    "# Умножение с учётом ковариации\n",
    "d = a * b\n",
    "print(d)  # Ожидаемый вывод: 50.0 ± 1.0\n",
    "\n",
    "# Вычисление логарифма\n",
    "ln_a = a.ln()\n",
    "print(ln_a)  # Ожидаемый вывод: ~2.30258509299 ± ~0.01\n",
    "\n",
    "# Тригонометрические функции\n",
    "angle = UDecimal(str(mp.pi / 4), '0.01')\n",
    "tan_angle = angle.tan()\n",
    "print(tan_angle)  # Ожидаемый вывод: 1.0 ± 0.02\n"
   ]
  }
 ],
 "metadata": {
  "kernelspec": {
   "display_name": "Python 3",
   "language": "python",
   "name": "python3"
  },
  "language_info": {
   "codemirror_mode": {
    "name": "ipython",
    "version": 3
   },
   "file_extension": ".py",
   "mimetype": "text/x-python",
   "name": "python",
   "nbconvert_exporter": "python",
   "pygments_lexer": "ipython3",
   "version": "3.11.3"
  }
 },
 "nbformat": 4,
 "nbformat_minor": 2
}
